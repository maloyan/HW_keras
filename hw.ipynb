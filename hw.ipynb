{
  "nbformat": 4,
  "nbformat_minor": 0,
  "metadata": {
    "colab": {
      "name": "hw.ipynb",
      "provenance": [],
      "authorship_tag": "ABX9TyMcZCQbzvVrTtY5nWVphz4l",
      "include_colab_link": true
    },
    "kernelspec": {
      "name": "python3",
      "display_name": "Python 3"
    },
    "accelerator": "GPU"
  },
  "cells": [
    {
      "cell_type": "markdown",
      "metadata": {
        "id": "view-in-github",
        "colab_type": "text"
      },
      "source": [
        "<a href=\"https://colab.research.google.com/github/maloyan/HW_keras/blob/master/hw.ipynb\" target=\"_parent\"><img src=\"https://colab.research.google.com/assets/colab-badge.svg\" alt=\"Open In Colab\"/></a>"
      ]
    },
    {
      "cell_type": "code",
      "metadata": {
        "id": "F35xqSQS97LU",
        "colab_type": "code",
        "colab": {}
      },
      "source": [
        "#DON'T FORGET TO CHANGE Runtime->GPU"
      ],
      "execution_count": 0,
      "outputs": []
    },
    {
      "cell_type": "code",
      "metadata": {
        "id": "LNS-ekpj-EFr",
        "colab_type": "code",
        "outputId": "c6179374-b816-4b78-ab0d-a9e5b0abf724",
        "colab": {
          "base_uri": "https://localhost:8080/",
          "height": 280
        }
      },
      "source": [
        "!nvidia-smi"
      ],
      "execution_count": 94,
      "outputs": [
        {
          "output_type": "stream",
          "text": [
            "Tue Jun  2 20:49:51 2020       \n",
            "+-----------------------------------------------------------------------------+\n",
            "| NVIDIA-SMI 440.82       Driver Version: 418.67       CUDA Version: 10.1     |\n",
            "|-------------------------------+----------------------+----------------------+\n",
            "| GPU  Name        Persistence-M| Bus-Id        Disp.A | Volatile Uncorr. ECC |\n",
            "| Fan  Temp  Perf  Pwr:Usage/Cap|         Memory-Usage | GPU-Util  Compute M. |\n",
            "|===============================+======================+======================|\n",
            "|   0  Tesla K80           Off  | 00000000:00:04.0 Off |                    0 |\n",
            "| N/A   52C    P0    59W / 149W |   2409MiB / 11441MiB |      0%      Default |\n",
            "+-------------------------------+----------------------+----------------------+\n",
            "                                                                               \n",
            "+-----------------------------------------------------------------------------+\n",
            "| Processes:                                                       GPU Memory |\n",
            "|  GPU       PID   Type   Process name                             Usage      |\n",
            "|=============================================================================|\n",
            "+-----------------------------------------------------------------------------+\n"
          ],
          "name": "stdout"
        }
      ]
    },
    {
      "cell_type": "code",
      "metadata": {
        "id": "3icdfV2-7I86",
        "colab_type": "code",
        "outputId": "7414f126-d70f-4da3-d743-68d262d0ceb3",
        "colab": {
          "base_uri": "https://localhost:8080/",
          "height": 280
        }
      },
      "source": [
        "!wget https://data.mendeley.com/datasets/rscbjbr9sj/2/files/f12eaf6d-6023-432f-acc9-80c9d7393433/ChestXRay2017.zip"
      ],
      "execution_count": 95,
      "outputs": [
        {
          "output_type": "stream",
          "text": [
            "--2020-06-02 20:49:53--  https://data.mendeley.com/datasets/rscbjbr9sj/2/files/f12eaf6d-6023-432f-acc9-80c9d7393433/ChestXRay2017.zip\n",
            "Resolving data.mendeley.com (data.mendeley.com)... 162.159.133.86, 162.159.130.86, 2606:4700:7::a29f:8556, ...\n",
            "Connecting to data.mendeley.com (data.mendeley.com)|162.159.133.86|:443... connected.\n",
            "HTTP request sent, awaiting response... 302 Found\n",
            "Location: https://md-datasets-public-files-prod.s3.eu-west-1.amazonaws.com/31ab5ede-ed34-46d4-b1bf-c63d70411497 [following]\n",
            "--2020-06-02 20:49:54--  https://md-datasets-public-files-prod.s3.eu-west-1.amazonaws.com/31ab5ede-ed34-46d4-b1bf-c63d70411497\n",
            "Resolving md-datasets-public-files-prod.s3.eu-west-1.amazonaws.com (md-datasets-public-files-prod.s3.eu-west-1.amazonaws.com)... 52.218.37.136\n",
            "Connecting to md-datasets-public-files-prod.s3.eu-west-1.amazonaws.com (md-datasets-public-files-prod.s3.eu-west-1.amazonaws.com)|52.218.37.136|:443... connected.\n",
            "HTTP request sent, awaiting response... 200 OK\n",
            "Length: 1235512464 (1.2G) [application/zip]\n",
            "Saving to: ‘ChestXRay2017.zip.1’\n",
            "\n",
            "ChestXRay2017.zip.1 100%[===================>]   1.15G  27.1MB/s    in 46s     \n",
            "\n",
            "2020-06-02 20:50:41 (25.8 MB/s) - ‘ChestXRay2017.zip.1’ saved [1235512464/1235512464]\n",
            "\n"
          ],
          "name": "stdout"
        }
      ]
    },
    {
      "cell_type": "code",
      "metadata": {
        "id": "jF9_kk-b7KJ1",
        "colab_type": "code",
        "outputId": "b362f36b-5399-4d1e-848b-3e133950aa8b",
        "colab": {
          "base_uri": "https://localhost:8080/",
          "height": 63
        }
      },
      "source": [
        "!unzip ChestXRay2017.zip"
      ],
      "execution_count": 0,
      "outputs": [
        {
          "output_type": "stream",
          "text": [
            "Archive:  ChestXRay2017.zip\n",
            "replace chest_xray/.DS_Store? [y]es, [n]o, [A]ll, [N]one, [r]ename: "
          ],
          "name": "stdout"
        }
      ]
    },
    {
      "cell_type": "code",
      "metadata": {
        "id": "VQC1KIJg67bD",
        "colab_type": "code",
        "colab": {}
      },
      "source": [
        "from tensorflow.keras.preprocessing.image import ImageDataGenerator, load_img\n",
        "from tensorflow.keras.applications.resnet50 import ResNet50\n",
        "from tensorflow.keras.models import Sequential\n",
        "from tensorflow.keras.layers import Conv2D, MaxPooling2D\n",
        "from tensorflow.keras.layers import Activation, Dropout, Flatten, Dense\n",
        "from tensorflow.keras import backend as K\n",
        "\n",
        "import os\n",
        "import numpy as np\n",
        "import pandas as pd\n",
        "\n",
        "import matplotlib.pyplot as plt\n",
        "%matplotlib inline"
      ],
      "execution_count": 0,
      "outputs": []
    },
    {
      "cell_type": "code",
      "metadata": {
        "id": "nqvSPfH4vob0",
        "colab_type": "code",
        "colab": {}
      },
      "source": [
        "# Строим модель\n",
        "# Она состоит из трех блоков вида: Свертка->Активация->MaxPooling\n",
        "\n",
        "# После мы получаем признаки, которые запишем в одномерный массив с помощью Flatten\n",
        "# Полносвязный слой выход 64->\n",
        "# Активация Relu->\n",
        "# 50% Дропаут ->\n",
        "# Полносвязный слой с одним выходом->\n",
        "# Нормализация с помощью Sigmoid\n",
        "\n",
        "def build_model(input_shape):\n",
        "    model = Sequential()\n",
        "    model.add(Conv2D(32, (3, 3), input_shape=input_shape))\n",
        "    model.add(Activation('relu'))\n",
        "    model.add(MaxPooling2D(pool_size=(2, 2)))\n",
        "\n",
        "    model.add(Conv2D(32, (3, 3)))\n",
        "    model.add(Activation('relu'))\n",
        "    model.add(MaxPooling2D(pool_size=(2, 2)))\n",
        "\n",
        "    model.add(Conv2D(64, (3, 3)))\n",
        "    model.add(Activation('relu'))\n",
        "    model.add(MaxPooling2D(pool_size=(2, 2)))\n",
        "\n",
        "    model.add(Flatten())\n",
        "    model.add(Dense(64))\n",
        "    model.add(Activation('relu'))\n",
        "    model.add(Dropout(0.5))\n",
        "    model.add(Dense(1))\n",
        "    model.add(Activation('sigmoid'))\n",
        "    return model"
      ],
      "execution_count": 0,
      "outputs": []
    },
    {
      "cell_type": "code",
      "metadata": {
        "id": "Pa0jRQJuvSfk",
        "colab_type": "code",
        "colab": {}
      },
      "source": [
        "#Посмотрим на пример из обучающей и тестовой выборки"
      ],
      "execution_count": 0,
      "outputs": []
    },
    {
      "cell_type": "code",
      "metadata": {
        "id": "qejr0izF8KtL",
        "colab_type": "code",
        "colab": {}
      },
      "source": [
        "img_normal = load_img('./chest_xray/train/NORMAL/NORMAL2-IM-0588-0001.jpeg')\n",
        "\n",
        "print('NORMAL')\n",
        "plt.imshow(img_normal)\n",
        "plt.show()"
      ],
      "execution_count": 0,
      "outputs": []
    },
    {
      "cell_type": "code",
      "metadata": {
        "id": "zOgNYN1h8VRI",
        "colab_type": "code",
        "colab": {}
      },
      "source": [
        "img_pneumonia = load_img('./chest_xray/train/PNEUMONIA/person63_bacteria_306.jpeg')\n",
        "\n",
        "print('PNEUMONIA')\n",
        "plt.imshow(img_pneumonia)\n",
        "plt.show()"
      ],
      "execution_count": 0,
      "outputs": []
    },
    {
      "cell_type": "code",
      "metadata": {
        "id": "FMJIToLsc3eC",
        "colab_type": "code",
        "colab": {}
      },
      "source": [
        "# Составим Датафрейм с путями и лейблами\n",
        "# Он нам понадобится для Dataloader \n",
        "train = []\n",
        "train_y = []\n",
        "test = []\n",
        "test_y = []\n",
        "for i in ['PNEUMONIA', 'NORMAL']:\n",
        "    for j in os.listdir('./chest_xray/train/' + i + '/'):\n",
        "        train.append(i + '/' + j)\n",
        "        train_y.append(i)\n",
        "\n",
        "    for j in os.listdir('./chest_xray/test/' + i + '/'):\n",
        "        test.append(i + '/' + j)\n",
        "        test_y.append(i)\n",
        "\n",
        "df_train = pd.DataFrame({'dir':train, 'label':train_y})\n",
        "df_test = pd.DataFrame({'dir':test, 'label':test_y})"
      ],
      "execution_count": 0,
      "outputs": []
    },
    {
      "cell_type": "code",
      "metadata": {
        "id": "1PO-XC6GhZlj",
        "colab_type": "code",
        "colab": {}
      },
      "source": [
        "df_train.head()"
      ],
      "execution_count": 0,
      "outputs": []
    },
    {
      "cell_type": "code",
      "metadata": {
        "id": "cbJJjSHEy3lv",
        "colab_type": "code",
        "colab": {}
      },
      "source": [
        "IMG_WIDTH, IMG_HEIGHT = 224, 224\n",
        "\n",
        "TRAIN_VAL_SPLIT = 0.8\n",
        "EPOCHS = 10\n",
        "BATCH = 16\n",
        "\n",
        "TRAIN_SAMPLES = df_train.shape[0] * TRAIN_VAL_SPLIT\n",
        "VAL_SAMPLES = df_train.shape[0] * (1 - TRAIN_VAL_SPLIT)\n",
        "\n",
        "TRAIN_STEPS = TRAIN_SAMPLES // BATCH\n",
        "VAL_STEPS = VAL_SAMPLES // BATCH\n",
        "\n",
        "if K.image_data_format() == 'channels_first':\n",
        "    INPUT_SHAPE = (3, IMG_WIDTH, IMG_HEIGHT)\n",
        "else:\n",
        "    INPUT_SHAPE = (IMG_WIDTH, IMG_HEIGHT, 3)"
      ],
      "execution_count": 0,
      "outputs": []
    },
    {
      "cell_type": "code",
      "metadata": {
        "id": "g9KBhoyk9t6y",
        "colab_type": "code",
        "colab": {}
      },
      "source": [
        "model = build_model(INPUT_SHAPE)\n",
        "model.compile(loss='binary_crossentropy',\n",
        "              optimizer='rmsprop',\n",
        "              metrics=['accuracy'])"
      ],
      "execution_count": 0,
      "outputs": []
    },
    {
      "cell_type": "code",
      "metadata": {
        "id": "4BdjU3aN9vOi",
        "colab_type": "code",
        "colab": {}
      },
      "source": [
        "# this is the augmentation configuration we will use for training\n",
        "datagen = ImageDataGenerator(\n",
        "    rescale=1. / 255,\n",
        "    shear_range=0.2,\n",
        "    zoom_range=0.2,\n",
        "    validation_split=0.2,\n",
        "    horizontal_flip=True)"
      ],
      "execution_count": 0,
      "outputs": []
    },
    {
      "cell_type": "code",
      "metadata": {
        "id": "pkOdlTYM9wnx",
        "colab_type": "code",
        "colab": {}
      },
      "source": [
        "# this is the augmentation configuration we will use for testing:\n",
        "# only rescaling\n",
        "test_datagen = ImageDataGenerator(rescale=1. / 255)"
      ],
      "execution_count": 0,
      "outputs": []
    },
    {
      "cell_type": "code",
      "metadata": {
        "id": "Z50hMsGNgRBW",
        "colab_type": "code",
        "colab": {}
      },
      "source": [
        "train_generator=datagen.flow_from_dataframe(\n",
        "    dataframe=df_train,\n",
        "    directory=\"./chest_xray/train/\",\n",
        "    x_col=\"dir\",\n",
        "    y_col=\"label\",\n",
        "    subset=\"training\",\n",
        "    batch_size=BATCH,\n",
        "    seed=42,\n",
        "    shuffle=True,\n",
        "    class_mode=\"binary\",\n",
        "    target_size=(IMG_WIDTH, IMG_HEIGHT))"
      ],
      "execution_count": 0,
      "outputs": []
    },
    {
      "cell_type": "code",
      "metadata": {
        "id": "6eKwQxJcjT7o",
        "colab_type": "code",
        "colab": {}
      },
      "source": [
        "\n",
        "validation_generator=datagen.flow_from_dataframe(\n",
        "    dataframe=df_train,\n",
        "    directory=\"./chest_xray/train/\",\n",
        "    x_col=\"dir\",\n",
        "    y_col=\"label\",\n",
        "    subset=\"validation\",\n",
        "    batch_size=BATCH,\n",
        "    seed=42,\n",
        "    shuffle=True,\n",
        "    class_mode=\"binary\",\n",
        "    target_size=(IMG_WIDTH, IMG_HEIGHT))"
      ],
      "execution_count": 0,
      "outputs": []
    },
    {
      "cell_type": "code",
      "metadata": {
        "id": "FoSCTW_j90Ib",
        "colab_type": "code",
        "colab": {}
      },
      "source": [
        "test_generator = test_datagen.flow_from_directory(\n",
        "    test_data_dir,\n",
        "    target_size=(IMG_WIDTH, IMG_HEIGHT),\n",
        "    batch_size=BATCH,\n",
        "    class_mode='binary')"
      ],
      "execution_count": 0,
      "outputs": []
    },
    {
      "cell_type": "code",
      "metadata": {
        "id": "DSnyiXpR91vC",
        "colab_type": "code",
        "colab": {}
      },
      "source": [
        "model.fit_generator(\n",
        "    train_generator,\n",
        "    steps_per_epoch=TRAIN_STEPS,\n",
        "    epochs=EPOCHS,\n",
        "    validation_data=validation_generator,\n",
        "    validation_steps=VAL_STEPS)"
      ],
      "execution_count": 0,
      "outputs": []
    }
  ]
}