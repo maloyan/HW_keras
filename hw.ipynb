{
  "nbformat": 4,
  "nbformat_minor": 0,
  "metadata": {
    "colab": {
      "name": "hw.ipynb",
      "provenance": [],
      "authorship_tag": "ABX9TyPTL05rlPn3IIu5aPGAakj5",
      "include_colab_link": true
    },
    "kernelspec": {
      "name": "python3",
      "display_name": "Python 3"
    },
    "accelerator": "GPU"
  },
  "cells": [
    {
      "cell_type": "markdown",
      "metadata": {
        "id": "view-in-github",
        "colab_type": "text"
      },
      "source": [
        "<a href=\"https://colab.research.google.com/github/maloyan/HW_keras/blob/master/hw.ipynb\" target=\"_parent\"><img src=\"https://colab.research.google.com/assets/colab-badge.svg\" alt=\"Open In Colab\"/></a>"
      ]
    },
    {
      "cell_type": "code",
      "metadata": {
        "id": "F35xqSQS97LU",
        "colab_type": "code",
        "colab": {}
      },
      "source": [
        "#DON'T FORGET TO CHANGE Runtime->GPU\n",
        "\n",
        "from tensorflow.keras.metrics import RootMeanSquaredError, AUC\n",
        "from tensorflow.keras.models import Sequential, Model\n",
        "from tensorflow.keras.layers import Conv2D, MaxPooling2D, GlobalAveragePooling2D, BatchNormalization\n",
        "from tensorflow.keras.layers import Activation, Dropout, Flatten, Dense, Input, Lambda, concatenate\n",
        "from tensorflow.keras import backend as K\n",
        "from tensorflow.keras import optimizers\n",
        "import tensorflow_addons as tfa\n",
        "import tensorflow as tf\n",
        "from tensorflow.keras import backend as K\n",
        "import albumentations as A\n",
        "\n",
        "import os\n",
        "import numpy as np\n",
        "import pandas as pd\n",
        "import cv2\n",
        "\n",
        "import matplotlib.pyplot as plt\n",
        "import random\n",
        "\n",
        "import gc\n",
        "\n",
        "\n",
        "from sklearn.neighbors import KNeighborsClassifier\n",
        "\n",
        "gc.enable()\n",
        "\n",
        "%matplotlib inline\n",
        "\n",
        "np.random.seed(42)\n",
        "tf.random.set_seed(42)"
      ],
      "execution_count": 0,
      "outputs": []
    },
    {
      "cell_type": "code",
      "metadata": {
        "id": "LNS-ekpj-EFr",
        "colab_type": "code",
        "outputId": "5ac9c970-adf1-4f6a-b10c-caeee3501502",
        "colab": {
          "base_uri": "https://localhost:8080/",
          "height": 364
        }
      },
      "source": [
        "!nvidia-smi"
      ],
      "execution_count": 3,
      "outputs": [
        {
          "output_type": "stream",
          "text": [
            "Sat Jun 13 11:27:11 2020       \n",
            "+-----------------------------------------------------------------------------+\n",
            "| NVIDIA-SMI 450.36.06    Driver Version: 418.67       CUDA Version: 10.1     |\n",
            "|-------------------------------+----------------------+----------------------+\n",
            "| GPU  Name        Persistence-M| Bus-Id        Disp.A | Volatile Uncorr. ECC |\n",
            "| Fan  Temp  Perf  Pwr:Usage/Cap|         Memory-Usage | GPU-Util  Compute M. |\n",
            "|                               |                      |               MIG M. |\n",
            "|===============================+======================+======================|\n",
            "|   0  Tesla P100-PCIE...  Off  | 00000000:00:04.0 Off |                    0 |\n",
            "| N/A   41C    P0    27W / 250W |      0MiB / 16280MiB |      0%      Default |\n",
            "|                               |                      |                 ERR! |\n",
            "+-------------------------------+----------------------+----------------------+\n",
            "                                                                               \n",
            "+-----------------------------------------------------------------------------+\n",
            "| Processes:                                                                  |\n",
            "|  GPU   GI   CI        PID   Type   Process name                  GPU Memory |\n",
            "|        ID   ID                                                   Usage      |\n",
            "|=============================================================================|\n",
            "|  No running processes found                                                 |\n",
            "+-----------------------------------------------------------------------------+\n"
          ],
          "name": "stdout"
        }
      ]
    },
    {
      "cell_type": "code",
      "metadata": {
        "id": "3icdfV2-7I86",
        "colab_type": "code",
        "colab": {}
      },
      "source": [
        "%%capture\n",
        "!wget https://data.mendeley.com/datasets/rscbjbr9sj/2/files/f12eaf6d-6023-432f-acc9-80c9d7393433/ChestXRay2017.zip;\n",
        "!unzip ChestXRay2017.zip;\n",
        "!cd ./chest_xray && mkdir val && cd val && mkdir NORMAL && mkdir PNEUMONIA;"
      ],
      "execution_count": 0,
      "outputs": []
    },
    {
      "cell_type": "code",
      "metadata": {
        "id": "cls_mPQZlte5",
        "colab_type": "code",
        "colab": {}
      },
      "source": [
        "TRAIN_SIZE = len(os.listdir('./chest_xray/train/NORMAL')) + len(os.listdir('./chest_xray/train/PNEUMONIA'))\n",
        "for i in os.listdir('./chest_xray/train/NORMAL')[:(TRAIN_SIZE // 10)]:\n",
        "    os.system(f'mv ./chest_xray/train/NORMAL/{i} ./chest_xray/val/NORMAL/{i}')\n",
        "\n",
        "for i in os.listdir('./chest_xray/train/PNEUMONIA')[:(TRAIN_SIZE // 10)]:\n",
        "    os.system(f'mv ./chest_xray/train/PNEUMONIA/{i} ./chest_xray/val/PNEUMONIA/{i}')"
      ],
      "execution_count": 0,
      "outputs": []
    },
    {
      "cell_type": "code",
      "metadata": {
        "id": "YLqWucsusMla",
        "colab_type": "code",
        "colab": {}
      },
      "source": [
        "IMG_WIDTH, IMG_HEIGHT = 224, 224\n",
        "\n",
        "TRAIN_DIR = './chest_xray/train/'\n",
        "TEST_DIR = './chest_xray/test/'\n",
        "VAL_DIR = './chest_xray/val/'\n",
        "\n",
        "EPOCHS = 3\n",
        "BATCH = 32\n",
        "\n",
        "TRAIN_SIZE = len(os.listdir('./chest_xray/train/NORMAL')) + len(os.listdir('./chest_xray/train/PNEUMONIA'))\n",
        "VAL_SIZE = len(os.listdir('./chest_xray/val/NORMAL')) + len(os.listdir('./chest_xray/val/PNEUMONIA'))\n",
        "\n",
        "TRAIN_STEPS = TRAIN_SIZE // BATCH\n",
        "VAL_STEPS = VAL_SIZE // BATCH\n",
        "\n",
        "\n",
        "if K.image_data_format() == 'channels_first':\n",
        "    INPUT_SHAPE = (1, IMG_WIDTH, IMG_HEIGHT)\n",
        "else:\n",
        "    INPUT_SHAPE = (IMG_WIDTH, IMG_HEIGHT, 1)"
      ],
      "execution_count": 0,
      "outputs": []
    },
    {
      "cell_type": "code",
      "metadata": {
        "id": "Wy266k8pp0UV",
        "colab_type": "code",
        "colab": {}
      },
      "source": [
        "doc_aug = A.Compose([\n",
        "    A.HorizontalFlip(p=0.8),\n",
        "    A.ShiftScaleRotate(shift_limit=0.1625, scale_limit=0.2, rotate_limit=30, p=1)\n",
        "], p=1)"
      ],
      "execution_count": 0,
      "outputs": []
    },
    {
      "cell_type": "code",
      "metadata": {
        "id": "Yz1T_5ufnPi4",
        "colab_type": "code",
        "outputId": "a4511035-fdc6-4e90-ce39-828be46f64b8",
        "colab": {
          "base_uri": "https://localhost:8080/",
          "height": 286
        }
      },
      "source": [
        "img_normal = cv2.imread('./chest_xray/train/NORMAL/' + os.listdir('./chest_xray/train/NORMAL')[0])\n",
        "\n",
        "print('NORMAL')\n",
        "plt.imshow(img_normal)\n",
        "plt.show()"
      ],
      "execution_count": 8,
      "outputs": [
        {
          "output_type": "stream",
          "text": [
            "NORMAL\n"
          ],
          "name": "stdout"
        },
        {
          "output_type": "display_data",
          "data": {
            "image/png": "[encoded data removed]",
            "text/plain": [
              "<Figure size 432x288 with 1 Axes>"
            ]
          },
          "metadata": {
            "tags": [],
            "needs_background": "light"
          }
        }
      ]
    },
    {
      "cell_type": "code",
      "metadata": {
        "id": "1ctGhz3ftqUs",
        "colab_type": "code",
        "outputId": "1cd32334-9ff2-4106-b015-9ed03b1ad455",
        "colab": {
          "base_uri": "https://localhost:8080/",
          "height": 286
        }
      },
      "source": [
        "plt.imshow(doc_aug(image=img_normal, mask=None, bboxes=[], category_id=[])['image'])"
      ],
      "execution_count": 9,
      "outputs": [
        {
          "output_type": "execute_result",
          "data": {
            "text/plain": [
              "<matplotlib.image.AxesImage at 0x7f065e6c3128>"
            ]
          },
          "metadata": {
            "tags": []
          },
          "execution_count": 9
        },
        {
          "output_type": "display_data",
          "data": {
            "image/png": "[encoded data removed]",
            "text/plain": [
              "<Figure size 432x288 with 1 Axes>"
            ]
          },
          "metadata": {
            "tags": [],
            "needs_background": "light"
          }
        }
      ]
    },
    {
      "cell_type": "code",
      "metadata": {
        "id": "zOgNYN1h8VRI",
        "colab_type": "code",
        "outputId": "1c810e5b-877e-4d54-af8b-ebbfef2c432f",
        "colab": {
          "base_uri": "https://localhost:8080/",
          "height": 286
        }
      },
      "source": [
        "img_pneumonia = cv2.imread('./chest_xray/train/PNEUMONIA/' + os.listdir('./chest_xray/train/PNEUMONIA/')[0])\n",
        "\n",
        "print('PNEUMONIA')\n",
        "plt.imshow(img_pneumonia)\n",
        "plt.show()"
      ],
      "execution_count": 10,
      "outputs": [
        {
          "output_type": "stream",
          "text": [
            "PNEUMONIA\n"
          ],
          "name": "stdout"
        },
        {
          "output_type": "display_data",
          "data": {
            "image/png": "[encoded data removed]",
            "text/plain": [
              "<Figure size 432x288 with 1 Axes>"
            ]
          },
          "metadata": {
            "tags": [],
            "needs_background": "light"
          }
        }
      ]
    },
    {
      "cell_type": "code",
      "metadata": {
        "id": "gVNbiXhwb9y9",
        "colab_type": "code",
        "colab": {}
      },
      "source": [
        "plt.imshow(doc_aug(image=img_pneumonia, mask=None, bboxes=[], category_id=[])['image'])"
      ],
      "execution_count": 0,
      "outputs": []
    },
    {
      "cell_type": "code",
      "metadata": {
        "id": "W6J_oyI1ve8X",
        "colab_type": "code",
        "colab": {}
      },
      "source": [
        "def loadimgs(path, train_flag=False):\n",
        "    X = []\n",
        "    y = []\n",
        "    if train_flag:\n",
        "        X_aug = []\n",
        "        y_aug = []\n",
        "\n",
        "    for ind, i in enumerate(['NORMAL', 'PNEUMONIA']):\n",
        "        for file_path in os.listdir(path + '/' + i):\n",
        "            if file_path[-5:] == '.jpeg':\n",
        "                img = cv2.imread(path + '/' + i + '/' + file_path)\n",
        "                img = cv2.cvtColor(img, cv2.COLOR_BGR2GRAY)\n",
        "                img = cv2.resize(img, (IMG_WIDTH, IMG_HEIGHT), interpolation = cv2.INTER_AREA)\n",
        "                # На каждую фотку делаем 1 аугментацию\n",
        "                if train_flag:\n",
        "                    for _ in range(1):\n",
        "                        img_aug = doc_aug(image=img, mask=None, bboxes=[], category_id=[])['image']\n",
        "                        img_aug = img_aug.reshape(224, 224, 1)\n",
        "                        img_aug = img_aug.astype('float32')\n",
        "                        img_aug /= 225\n",
        "                        X_aug.append(img_aug)\n",
        "                        y_aug.append(ind)\n",
        "\n",
        "                img = img.reshape(224, 224, 1)\n",
        "                img = img.astype('float32')\n",
        "                img /= 225\n",
        "                \n",
        "                X.append(img)\n",
        "                y.append(ind)\n",
        "    if train_flag:\n",
        "        return np.stack(X), np.stack(y), np.stack(X_aug), np.stack(y_aug)\n",
        "    return np.stack(X), np.stack(y)"
      ],
      "execution_count": 0,
      "outputs": []
    },
    {
      "cell_type": "code",
      "metadata": {
        "id": "6HxRECQBxm-o",
        "colab_type": "code",
        "colab": {}
      },
      "source": [
        "X_train, y_train, X_aug_train, y_aug_train = loadimgs('./chest_xray/train', train_flag=True)\n",
        "X_val, y_val = loadimgs('./chest_xray/val')\n",
        "X_test, y_test = loadimgs('./chest_xray/test')"
      ],
      "execution_count": 0,
      "outputs": []
    },
    {
      "cell_type": "code",
      "metadata": {
        "id": "dTzSPCK_ORZg",
        "colab_type": "code",
        "colab": {}
      },
      "source": [
        "# Строим модель\n",
        "# Она состоит из трех блоков вида: Свертка->Активация->MaxPooling\n",
        "\n",
        "# После мы получаем признаки, которые запишем в одномерный массив с помощью Flatten\n",
        "# Полносвязный слой выход 64->\n",
        "# Активация Relu->\n",
        "# 50% Дропаут ->\n",
        "# Полносвязный слой с одним выходом->\n",
        "# Нормализация с помощью Sigmoid\n",
        "\n",
        "def base_model(input_shape):\n",
        "    model = Sequential()\n",
        "    model.add(Conv2D(32, (3, 3), input_shape=input_shape))\n",
        "    model.add(Activation('relu'))\n",
        "    model.add(MaxPooling2D(pool_size=(2, 2)))\n",
        "\n",
        "    model.add(Conv2D(32, (3, 3)))\n",
        "    model.add(Activation('relu'))\n",
        "    model.add(MaxPooling2D(pool_size=(2, 2)))\n",
        "\n",
        "    model.add(Conv2D(64, (3, 3)))\n",
        "    model.add(Activation('relu'))\n",
        "    model.add(MaxPooling2D(pool_size=(2, 2)))\n",
        "\n",
        "    model.add(Conv2D(128, (3, 3)))\n",
        "    model.add(Activation('relu'))\n",
        "    model.add(MaxPooling2D(pool_size=(2, 2)))\n",
        "\n",
        "    model.add(Flatten())\n",
        "    model.add(Dense(64))\n",
        "\n",
        "    return model\n",
        "\n",
        "def classic_model(input_shape):\n",
        "    \n",
        "    model = base_model(input_shape)\n",
        "\n",
        "    model.add(Activation('relu'))\n",
        "    model.add(Dropout(0.5))\n",
        "    model.add(Dense(1))\n",
        "    model.add(Activation('sigmoid'))\n",
        "\n",
        "    return model\n",
        "\n",
        "def siamese_model(input_shape):\n",
        "    left_input = Input(input_shape)\n",
        "    right_input = Input(input_shape)\n",
        "    \n",
        "    model = base_model(input_shape)\n",
        "\n",
        "    model.add(Activation('sigmoid'))\n",
        "\n",
        "    encoded_l = model(left_input)\n",
        "    encoded_r = model(right_input)\n",
        "    \n",
        "    distance = Lambda(euclidean_distance,\n",
        "                  output_shape=eucl_dist_output_shape)([encoded_l, encoded_r])\n",
        "\n",
        "    #prediction = Dense(1,activation='sigmoid')(L1_distance)\n",
        "\n",
        "    siamese_net = Model(inputs=[left_input,right_input],outputs=distance)\n",
        "    \n",
        "    return model, siamese_net\n",
        "\n",
        "def siamese_triplet_model(input_shape, triplet_margin=.3):\n",
        "\n",
        "    anchor_input = Input(input_shape, name=\"anchor_input\")\n",
        "    positive_input = Input(input_shape, name=\"positive_input\")\n",
        "    negative_input = Input(input_shape, name=\"negative_input\")\n",
        "    \n",
        "    embedding_model = base_model(input_shape)\n",
        "    \n",
        "    # Generate the embedding outputs \n",
        "    encoded_anchor = embedding_model(anchor_input)\n",
        "    encoded_positive = embedding_model(positive_input)\n",
        "    encoded_negative = embedding_model(negative_input)\n",
        "    \n",
        "    inputs = [anchor_input, positive_input, negative_input]\n",
        "    outputs = [encoded_anchor, encoded_positive, encoded_negative]\n",
        "    \n",
        "    # Connect the inputs with the outputs\n",
        "    siamese_triplet = Model(inputs=inputs,outputs=outputs)\n",
        "    \n",
        "    siamese_triplet.add_loss((triplet_loss(outputs, dist='euclidean', margin='maxplus')))\n",
        "    \n",
        "    # return the model\n",
        "    return embedding_model, siamese_triplet"
      ],
      "execution_count": 0,
      "outputs": []
    },
    {
      "cell_type": "code",
      "metadata": {
        "id": "NIq-m9TBSkKN",
        "colab_type": "code",
        "colab": {}
      },
      "source": [
        "def fit_nearest_neighbor(img_encoding, img_class, n_neighbors, algorithm='ball_tree'):\n",
        "  classifier = KNeighborsClassifier(n_neighbors=n_neighbors, algorithm=algorithm)\n",
        "  classifier.fit(img_encoding, img_class)\n",
        "  return classifier"
      ],
      "execution_count": 0,
      "outputs": []
    },
    {
      "cell_type": "code",
      "metadata": {
        "id": "-mKFiGp9iV_e",
        "colab_type": "code",
        "colab": {}
      },
      "source": [
        "#CLASSIC"
      ],
      "execution_count": 0,
      "outputs": []
    },
    {
      "cell_type": "code",
      "metadata": {
        "id": "aE4KQua9xkKA",
        "colab_type": "code",
        "colab": {
          "base_uri": "https://localhost:8080/",
          "height": 156
        },
        "outputId": "7a5e5b4d-7301-40a1-a980-384bf1eaf7a6"
      },
      "source": [
        "model = classic_model(INPUT_SHAPE)\n",
        "    \n",
        "model.compile(\n",
        "    loss=tf.keras.losses.BinaryCrossentropy(),\n",
        "    optimizer=optimizers.Adam(),\n",
        "    metrics=['accuracy']\n",
        ")\n",
        "\n",
        "model.fit(\n",
        "    x = X_train,\n",
        "    y = y_train,\n",
        "    batch_size=BATCH,\n",
        "    epochs=EPOCHS,\n",
        "    validation_data=(X_val, y_val)\n",
        ")\n",
        "\n",
        "model.evaluate(X_test, y_test)"
      ],
      "execution_count": 16,
      "outputs": [
        {
          "output_type": "stream",
          "text": [
            "Epoch 1/3\n",
            "131/131 [==============================] - 4s 27ms/step - loss: 0.3636 - accuracy: 0.8376 - val_loss: 0.4073 - val_accuracy: 0.8478\n",
            "Epoch 2/3\n",
            "131/131 [==============================] - 3s 24ms/step - loss: 0.1860 - accuracy: 0.9276 - val_loss: 0.4051 - val_accuracy: 0.8842\n",
            "Epoch 3/3\n",
            "131/131 [==============================] - 3s 24ms/step - loss: 0.1563 - accuracy: 0.9475 - val_loss: 0.2155 - val_accuracy: 0.9359\n",
            "20/20 [==============================] - 0s 11ms/step - loss: 0.6501 - accuracy: 0.7756\n"
          ],
          "name": "stdout"
        },
        {
          "output_type": "execute_result",
          "data": {
            "text/plain": [
              "[0.6500657200813293, 0.7756410241127014]"
            ]
          },
          "metadata": {
            "tags": []
          },
          "execution_count": 16
        }
      ]
    },
    {
      "cell_type": "code",
      "metadata": {
        "id": "R5wNEAY9bKZ1",
        "colab_type": "code",
        "colab": {
          "base_uri": "https://localhost:8080/",
          "height": 34
        },
        "outputId": "5b045b1c-bc0d-40ab-a7fa-cb0ae27630ad"
      },
      "source": [
        "gc.collect()"
      ],
      "execution_count": 17,
      "outputs": [
        {
          "output_type": "execute_result",
          "data": {
            "text/plain": [
              "3604"
            ]
          },
          "metadata": {
            "tags": []
          },
          "execution_count": 17
        }
      ]
    },
    {
      "cell_type": "code",
      "metadata": {
        "id": "b8KGUcuC0zRp",
        "colab_type": "code",
        "outputId": "dbc4b925-c248-4c52-d3ac-56933aca8b66",
        "colab": {
          "base_uri": "https://localhost:8080/",
          "height": 156
        }
      },
      "source": [
        "model.compile(\n",
        "    loss=tf.keras.losses.BinaryCrossentropy(),\n",
        "    optimizer=optimizers.Adam(),\n",
        "    metrics=['accuracy']\n",
        ")\n",
        "\n",
        "model.fit(\n",
        "    x = np.append(X_train, X_aug_train, axis=0),\n",
        "    y = np.append(y_train, y_aug_train, axis=0),\n",
        "    batch_size=BATCH,\n",
        "    epochs=EPOCHS,\n",
        "    validation_data=(X_val, y_val)\n",
        ")\n",
        "\n",
        "model.evaluate(X_test, y_test)"
      ],
      "execution_count": 18,
      "outputs": [
        {
          "output_type": "stream",
          "text": [
            "Epoch 1/3\n",
            "262/262 [==============================] - 6s 23ms/step - loss: 0.2794 - accuracy: 0.8870 - val_loss: 0.5263 - val_accuracy: 0.7923\n",
            "Epoch 2/3\n",
            "262/262 [==============================] - 6s 23ms/step - loss: 0.2135 - accuracy: 0.9134 - val_loss: 0.1568 - val_accuracy: 0.9531\n",
            "Epoch 3/3\n",
            "262/262 [==============================] - 6s 23ms/step - loss: 0.1851 - accuracy: 0.9268 - val_loss: 0.1516 - val_accuracy: 0.9502\n",
            "20/20 [==============================] - 0s 9ms/step - loss: 0.8206 - accuracy: 0.7756\n"
          ],
          "name": "stdout"
        },
        {
          "output_type": "execute_result",
          "data": {
            "text/plain": [
              "[0.8206399083137512, 0.7756410241127014]"
            ]
          },
          "metadata": {
            "tags": []
          },
          "execution_count": 18
        }
      ]
    },
    {
      "cell_type": "code",
      "metadata": {
        "id": "JNR6sel7bNKW",
        "colab_type": "code",
        "colab": {
          "base_uri": "https://localhost:8080/",
          "height": 34
        },
        "outputId": "162b3af0-86f9-4712-f96e-43a2e2633c72"
      },
      "source": [
        "gc.collect()"
      ],
      "execution_count": 19,
      "outputs": [
        {
          "output_type": "execute_result",
          "data": {
            "text/plain": [
              "3753"
            ]
          },
          "metadata": {
            "tags": []
          },
          "execution_count": 19
        }
      ]
    },
    {
      "cell_type": "code",
      "metadata": {
        "id": "OxQU0gZ3QFTG",
        "colab_type": "code",
        "colab": {
          "base_uri": "https://localhost:8080/",
          "height": 156
        },
        "outputId": "3bd47d94-64e4-4423-b2f8-b8cb36c79278"
      },
      "source": [
        "model = classic_model(INPUT_SHAPE)\n",
        "    \n",
        "model.compile(\n",
        "    loss=tf.keras.losses.BinaryCrossentropy(label_smoothing=0.1),\n",
        "    optimizer=optimizers.Adam(),\n",
        "    metrics=['accuracy']\n",
        ")\n",
        "\n",
        "model.fit(\n",
        "    x = X_train,\n",
        "    y = y_train,\n",
        "    batch_size=BATCH,\n",
        "    epochs=EPOCHS,\n",
        "    validation_data=(X_val, y_val)\n",
        ")\n",
        "\n",
        "model.evaluate(X_test, y_test)"
      ],
      "execution_count": 20,
      "outputs": [
        {
          "output_type": "stream",
          "text": [
            "Epoch 1/3\n",
            "131/131 [==============================] - 3s 25ms/step - loss: 0.4610 - accuracy: 0.8299 - val_loss: 0.4493 - val_accuracy: 0.8986\n",
            "Epoch 2/3\n",
            "131/131 [==============================] - 3s 24ms/step - loss: 0.3377 - accuracy: 0.9193 - val_loss: 0.3586 - val_accuracy: 0.9397\n",
            "Epoch 3/3\n",
            "131/131 [==============================] - 3s 24ms/step - loss: 0.3137 - accuracy: 0.9465 - val_loss: 0.3482 - val_accuracy: 0.9388\n",
            "20/20 [==============================] - 0s 9ms/step - loss: 0.6423 - accuracy: 0.7500\n"
          ],
          "name": "stdout"
        },
        {
          "output_type": "execute_result",
          "data": {
            "text/plain": [
              "[0.6423286199569702, 0.75]"
            ]
          },
          "metadata": {
            "tags": []
          },
          "execution_count": 20
        }
      ]
    },
    {
      "cell_type": "code",
      "metadata": {
        "id": "Cju2KM4mbN4F",
        "colab_type": "code",
        "colab": {
          "base_uri": "https://localhost:8080/",
          "height": 34
        },
        "outputId": "55ecd10d-9d59-40ed-c41a-5d94eb7f19a6"
      },
      "source": [
        "gc.collect()"
      ],
      "execution_count": 21,
      "outputs": [
        {
          "output_type": "execute_result",
          "data": {
            "text/plain": [
              "18830"
            ]
          },
          "metadata": {
            "tags": []
          },
          "execution_count": 21
        }
      ]
    },
    {
      "cell_type": "code",
      "metadata": {
        "id": "iJDJlB11QGub",
        "colab_type": "code",
        "outputId": "ddced4db-5ad2-4573-b35d-34049e3cc50a",
        "colab": {
          "base_uri": "https://localhost:8080/",
          "height": 156
        }
      },
      "source": [
        "model = classic_model(INPUT_SHAPE)\n",
        "    \n",
        "model.compile(\n",
        "    loss=tf.keras.losses.BinaryCrossentropy(label_smoothing=0.1),\n",
        "    optimizer=optimizers.Adam(),\n",
        "    metrics=['accuracy']\n",
        ")\n",
        "\n",
        "model.fit(\n",
        "    x = np.append(X_train, X_aug_train, axis=0),\n",
        "    y = np.append(y_train, y_aug_train, axis=0),\n",
        "    batch_size=BATCH,\n",
        "    epochs=EPOCHS,\n",
        "    validation_data=(X_val, y_val)\n",
        ")\n",
        "\n",
        "model.evaluate(X_test, y_test)"
      ],
      "execution_count": 22,
      "outputs": [
        {
          "output_type": "stream",
          "text": [
            "Epoch 1/3\n",
            "262/262 [==============================] - 6s 23ms/step - loss: 0.4716 - accuracy: 0.8218 - val_loss: 0.5223 - val_accuracy: 0.8163\n",
            "Epoch 2/3\n",
            "262/262 [==============================] - 6s 23ms/step - loss: 0.3785 - accuracy: 0.8734 - val_loss: 0.3626 - val_accuracy: 0.9177\n",
            "Epoch 3/3\n",
            "262/262 [==============================] - 6s 23ms/step - loss: 0.3533 - accuracy: 0.9080 - val_loss: 0.3785 - val_accuracy: 0.9043\n",
            "20/20 [==============================] - 0s 9ms/step - loss: 0.6647 - accuracy: 0.7083\n"
          ],
          "name": "stdout"
        },
        {
          "output_type": "execute_result",
          "data": {
            "text/plain": [
              "[0.6647244691848755, 0.7083333134651184]"
            ]
          },
          "metadata": {
            "tags": []
          },
          "execution_count": 22
        }
      ]
    },
    {
      "cell_type": "code",
      "metadata": {
        "id": "9fwXETDPiUSE",
        "colab_type": "code",
        "outputId": "1a1ffa80-f867-45c2-9238-655a09a1ee66",
        "colab": {
          "base_uri": "https://localhost:8080/",
          "height": 34
        }
      },
      "source": [
        "#contrastive_loss\n",
        "\n",
        "gc.collect()"
      ],
      "execution_count": 23,
      "outputs": [
        {
          "output_type": "execute_result",
          "data": {
            "text/plain": [
              "11321"
            ]
          },
          "metadata": {
            "tags": []
          },
          "execution_count": 23
        }
      ]
    },
    {
      "cell_type": "code",
      "metadata": {
        "id": "KmGulzfhJIo2",
        "colab_type": "code",
        "colab": {}
      },
      "source": [
        "num_classes = 2\n",
        "\n",
        "def create_pairs(x, y):\n",
        "    '''Positive and negative pair creation.\n",
        "    Alternates between positive and negative pairs.\n",
        "    '''\n",
        "    digit_indices = [np.where(y == i)[0] for i in range(num_classes)]\n",
        "    pairs = []\n",
        "    labels = []\n",
        "    n = min([len(digit_indices[d]) for d in range(num_classes)]) - 1\n",
        "    for d in range(num_classes):\n",
        "        for i in range(n):\n",
        "            z1, z2 = digit_indices[d][i], digit_indices[d][i + 1]\n",
        "            pairs += [[x[z1], x[z2]]]\n",
        "            \n",
        "            dn = (d + 1) % num_classes\n",
        "            z1, z2 = digit_indices[d][i], digit_indices[dn][i]\n",
        "            pairs += [[x[z1], x[z2]]]\n",
        "            labels += [1, 0]\n",
        "    return np.array(pairs), np.array(labels)\n"
      ],
      "execution_count": 0,
      "outputs": []
    },
    {
      "cell_type": "code",
      "metadata": {
        "id": "VAVe1FpILUVe",
        "colab_type": "code",
        "colab": {}
      },
      "source": [
        "def contrastive_loss(y_true, y_pred):\n",
        "    '''Contrastive loss from Hadsell-et-al.'06\n",
        "    http://yann.lecun.com/exdb/publis/pdf/hadsell-chopra-lecun-06.pdf\n",
        "    '''\n",
        "    margin = 1\n",
        "    square_pred = K.square(y_pred)\n",
        "    margin_square = K.square(K.maximum(margin - y_pred, 0))\n",
        "    return K.mean(y_true * square_pred + (1 - y_true) * margin_square)\n",
        "\n",
        "def accuracy(y_true, y_pred):\n",
        "    '''Compute classification accuracy with a fixed threshold on distances.\n",
        "    '''\n",
        "    return K.mean(K.equal(y_true, K.cast(y_pred < 0.5, y_true.dtype)))\n",
        "\n",
        "def compute_accuracy(y_true, y_pred):\n",
        "    '''Compute classification accuracy with a fixed threshold on distances.\n",
        "    '''\n",
        "    pred = y_pred.ravel() < 0.5\n",
        "    return np.mean(pred == y_true)\n",
        "\n",
        "\n",
        "def euclidean_distance(vects):\n",
        "    x, y = vects\n",
        "    sum_square = K.sum(K.square(x - y), axis=1, keepdims=True)\n",
        "    return K.sqrt(K.maximum(sum_square, K.epsilon()))\n",
        "\n",
        "\n",
        "def eucl_dist_output_shape(shapes):\n",
        "    shape1, shape2 = shapes\n",
        "    return (shape1[0], 1)"
      ],
      "execution_count": 0,
      "outputs": []
    },
    {
      "cell_type": "code",
      "metadata": {
        "id": "Zad7a6g4Tivd",
        "colab_type": "code",
        "colab": {}
      },
      "source": [
        "# create training+test positive and negative pairs\n",
        "tr_pairs, tr_y = create_pairs(X_train, y_train)\n",
        "vl_pairs, vl_y = create_pairs(X_val, y_val)\n",
        "te_pairs, te_y = create_pairs(X_test, y_test)"
      ],
      "execution_count": 0,
      "outputs": []
    },
    {
      "cell_type": "code",
      "metadata": {
        "id": "L-LbR1E7bVUt",
        "colab_type": "code",
        "colab": {}
      },
      "source": [
        "tr_aug_pairs, tr_aug_y = create_pairs(np.append(X_train, X_aug_train, axis=0), np.append(y_train, y_aug_train, axis=0))"
      ],
      "execution_count": 0,
      "outputs": []
    },
    {
      "cell_type": "code",
      "metadata": {
        "id": "_eFGFeXuJmHd",
        "colab_type": "code",
        "colab": {
          "base_uri": "https://localhost:8080/",
          "height": 121
        },
        "outputId": "ce61e62c-c9fa-45a5-cb80-a1dc2352e27b"
      },
      "source": [
        "embedding, model = siamese_model(INPUT_SHAPE)\n",
        "model.compile(\n",
        "    loss=contrastive_loss, \n",
        "    optimizer=optimizers.Adam(), \n",
        "    #metrics=[accuracy]\n",
        ")\n",
        "\n",
        "model.fit([tr_pairs[:, 0], tr_pairs[:, 1]], tr_y,\n",
        "          batch_size=BATCH,\n",
        "          epochs=EPOCHS,\n",
        "          validation_data=([vl_pairs[:, 0], vl_pairs[:, 1]], vl_y))"
      ],
      "execution_count": 0,
      "outputs": [
        {
          "output_type": "stream",
          "text": [
            "Epoch 1/3\n",
            "104/104 [==============================] - 6s 62ms/step - loss: 0.1613 - val_loss: 0.1377\n",
            "Epoch 2/3\n",
            "104/104 [==============================] - 7s 64ms/step - loss: 0.0607 - val_loss: 0.0630\n",
            "Epoch 3/3\n",
            "103/104 [============================>.] - ETA: 0s - loss: 0.0347"
          ],
          "name": "stdout"
        }
      ]
    },
    {
      "cell_type": "code",
      "metadata": {
        "id": "S9FN__E8MZtN",
        "colab_type": "code",
        "colab": {}
      },
      "source": [
        "train_embeds = embedding.predict(X_train)\n",
        "classifier = fit_nearest_neighbor(train_embeds, y_train, 10)\n",
        "e = embedding.predict(X_test)\n",
        "op = classifier.predict(e)\n",
        "\n",
        "print((np.where(y_test == op))[0].shape[0] / y_test.shape[0])"
      ],
      "execution_count": 0,
      "outputs": []
    },
    {
      "cell_type": "code",
      "metadata": {
        "id": "Zj5hfXaAMvlR",
        "colab_type": "code",
        "colab": {}
      },
      "source": [
        "gc.collect()"
      ],
      "execution_count": 0,
      "outputs": []
    },
    {
      "cell_type": "code",
      "metadata": {
        "id": "a6mOVdN5NN2L",
        "colab_type": "code",
        "colab": {}
      },
      "source": [
        "embedding, model = siamese_model(INPUT_SHAPE)\n",
        "model.compile(\n",
        "    loss=contrastive_loss, \n",
        "    optimizer=optimizers.Adam(), \n",
        "    #metrics=[accuracy]\n",
        ")\n",
        "\n",
        "model.fit([tr_aug_pairs[:, 0], tr_aug_pairs[:, 1]], tr_aug_y,\n",
        "          batch_size=BATCH,\n",
        "          epochs=EPOCHS,\n",
        "          validation_data=([vl_pairs[:, 0], vl_pairs[:, 1]], vl_y))"
      ],
      "execution_count": 0,
      "outputs": []
    },
    {
      "cell_type": "code",
      "metadata": {
        "id": "-4_4prY3NQEg",
        "colab_type": "code",
        "colab": {}
      },
      "source": [
        "train_embeds = embedding.predict(X_train)\n",
        "classifier = fit_nearest_neighbor(train_embeds, y_train, 10)\n",
        "e = embedding.predict(X_test)\n",
        "op = classifier.predict(e)\n",
        "\n",
        "print((np.where(y_test == op))[0].shape[0] / y_test.shape[0])"
      ],
      "execution_count": 0,
      "outputs": []
    },
    {
      "cell_type": "code",
      "metadata": {
        "id": "bOYKvMCrd7cr",
        "colab_type": "code",
        "colab": {}
      },
      "source": [
        "#Triplet v2\n",
        "gc.collect()"
      ],
      "execution_count": 0,
      "outputs": []
    },
    {
      "cell_type": "code",
      "metadata": {
        "id": "x0cRNuudP9o7",
        "colab_type": "code",
        "colab": {}
      },
      "source": [
        "def generate_triplets(dataset, label, sample_per_class=10):\n",
        "  x, y = None, None\n",
        "  for i in range(2):\n",
        "    pos_indices = np.argwhere(label == i)[:,0]\n",
        "    neg_indices = np.argwhere(label != i)[:,0]\n",
        "\n",
        "    # print(\"pos indices: {}, neg_indices: {}\".format(pos_indices.shape, neg_indices.shape))\n",
        "    choice_anchor = np.random.choice(pos_indices.shape[0], sample_per_class, replace=False)\n",
        "    choice_anchor = pos_indices[choice_anchor]\n",
        "\n",
        "    choice_pos = np.random.choice(pos_indices.shape[0], sample_per_class, replace=False)\n",
        "    choice_pos = pos_indices[choice_pos]\n",
        "\n",
        "    choice_neg = np.random.choice(neg_indices.shape[0], sample_per_class, replace=False)\n",
        "    choice_neg = neg_indices[choice_neg]\n",
        "\n",
        "    sub_x_anc = dataset[choice_anchor]\n",
        "    \n",
        "    sub_x_pos = dataset[choice_pos]\n",
        "\n",
        "    sub_x_neg = dataset[choice_neg]\n",
        "      \n",
        "        \n",
        "    if(x is None):\n",
        "      x = [(sub_x_anc), (sub_x_pos), (sub_x_neg)]\n",
        "      y = [label[choice_anchor], label[choice_pos], label[choice_neg]]\n",
        "    else:\n",
        "      x[0] = np.vstack((x[0], (sub_x_anc)))\n",
        "      x[1] = np.vstack((x[1], (sub_x_pos)))\n",
        "      x[2] = np.vstack((x[2], (sub_x_neg)))\n",
        "\n",
        "      y[0] = np.hstack((y[0].flatten(), label[choice_anchor].flatten()))\n",
        "      y[1] = np.hstack((y[1].flatten(), label[choice_pos].flatten()))\n",
        "      y[2] = np.hstack((y[2].flatten(), label[choice_neg].flatten()))\n",
        "    \n",
        "  return x, y\n",
        "\n",
        "def triplet_loss(inputs, dist='sqeuclidean', margin='maxplus'):\n",
        "    anchor, positive, negative = inputs\n",
        "    positive_distance = K.square(anchor - positive)\n",
        "    negative_distance = K.square(anchor - negative)\n",
        "    if dist == 'euclidean':\n",
        "        positive_distance = K.sqrt(K.sum(positive_distance, axis=-1, keepdims=True))\n",
        "        negative_distance = K.sqrt(K.sum(negative_distance, axis=-1, keepdims=True))\n",
        "    elif dist == 'sqeuclidean':\n",
        "        positive_distance = K.sum(positive_distance, axis=-1, keepdims=True)\n",
        "        negative_distance = K.sum(negative_distance, axis=-1, keepdims=True)\n",
        "    loss = positive_distance - negative_distance\n",
        "    if margin == 'maxplus':\n",
        "        loss = K.maximum(0.0, 1 + loss)\n",
        "    elif margin == 'softplus':\n",
        "        loss = K.log(1 + K.exp(loss))\n",
        "    return K.mean(loss)\n"
      ],
      "execution_count": 0,
      "outputs": []
    },
    {
      "cell_type": "code",
      "metadata": {
        "id": "ZYKukn9PP_7Q",
        "colab_type": "code",
        "colab": {}
      },
      "source": [
        "train_x, train_y = generate_triplets(X_train, y_train, 500)\n",
        "val_x, val_y = generate_triplets(X_val, y_val, 100)\n",
        "test_x, test_y = generate_triplets(X_test, y_test, 100)"
      ],
      "execution_count": 0,
      "outputs": []
    },
    {
      "cell_type": "code",
      "metadata": {
        "id": "sy6vVEtSZGUL",
        "colab_type": "code",
        "colab": {}
      },
      "source": [
        "train_aug_x, train_aug_y = generate_triplets(np.append(X_train, X_aug_train, axis=0), np.append(y_train, y_aug_train, axis=0), 500)"
      ],
      "execution_count": 0,
      "outputs": []
    },
    {
      "cell_type": "code",
      "metadata": {
        "id": "yAEYMTE9d682",
        "colab_type": "code",
        "colab": {}
      },
      "source": [
        "embedding_model, siamese_triplet = siamese_triplet_model(INPUT_SHAPE, triplet_margin=.3)\n",
        "siamese_triplet.compile(\n",
        "    loss=None, #tfa.losses.TripletSemiHardLoss(), \n",
        "    optimizer=optimizers.Adam())\n",
        "\n",
        "siamese_triplet.fit(\n",
        "    x=train_x,\n",
        "    y=train_y, \n",
        "    shuffle=True, \n",
        "    batch_size=BATCH, \n",
        "    epochs=EPOCHS,\n",
        "    validation_data=(val_x, val_y)\n",
        ")"
      ],
      "execution_count": 0,
      "outputs": []
    },
    {
      "cell_type": "code",
      "metadata": {
        "id": "kQLtsVfxeY15",
        "colab_type": "code",
        "colab": {}
      },
      "source": [
        "train_embeds = embedding_model.predict(np.vstack((train_x[0], train_x[1], train_x[2])))\n",
        "target = np.hstack(train_y)\n",
        "classifier = fit_nearest_neighbor(train_embeds, target, 10)\n",
        "e = embedding_model.predict(X_test)\n",
        "op = classifier.predict(e)\n",
        "print((np.where(y_test == op))[0].shape[0] / y_test.shape[0])"
      ],
      "execution_count": 0,
      "outputs": []
    },
    {
      "cell_type": "code",
      "metadata": {
        "id": "Cx1fgkFOZQRk",
        "colab_type": "code",
        "colab": {}
      },
      "source": [
        "gc.collect()"
      ],
      "execution_count": 0,
      "outputs": []
    },
    {
      "cell_type": "code",
      "metadata": {
        "id": "mu0TBOOKZQZU",
        "colab_type": "code",
        "colab": {}
      },
      "source": [
        "embedding_model, siamese_triplet = siamese_triplet_model(INPUT_SHAPE, triplet_margin=.3)\n",
        "siamese_triplet.compile(\n",
        "    loss=None, #tfa.losses.TripletSemiHardLoss(), \n",
        "    optimizer=optimizers.Adam())\n",
        "\n",
        "siamese_triplet.fit(\n",
        "    x=train_aug_x,\n",
        "    y=train_aug_y, \n",
        "    shuffle=True, \n",
        "    batch_size=BATCH, \n",
        "    epochs=EPOCHS,\n",
        "    validation_data=(val_x, val_y)\n",
        ")"
      ],
      "execution_count": 0,
      "outputs": []
    },
    {
      "cell_type": "code",
      "metadata": {
        "id": "c5jICrV9ZQfF",
        "colab_type": "code",
        "colab": {}
      },
      "source": [
        "train_embeds = embedding_model.predict(np.vstack((train_x[0], train_x[1], train_x[2])))\n",
        "target = np.hstack(train_y)\n",
        "classifier = fit_nearest_neighbor(train_embeds, target, 10)\n",
        "e = embedding_model.predict(X_test)\n",
        "op = classifier.predict(e)\n",
        "print((np.where(y_test == op))[0].shape[0] / y_test.shape[0])"
      ],
      "execution_count": 0,
      "outputs": []
    },
    {
      "cell_type": "code",
      "metadata": {
        "id": "1zgQcjLURX0M",
        "colab_type": "code",
        "colab": {}
      },
      "source": [
        "gc.collect()"
      ],
      "execution_count": 0,
      "outputs": []
    }
  ]
}