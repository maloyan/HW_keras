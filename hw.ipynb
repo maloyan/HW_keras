{
  "nbformat": 4,
  "nbformat_minor": 0,
  "metadata": {
    "colab": {
      "name": "hw.ipynb",
      "provenance": [],
      "authorship_tag": "ABX9TyN6vAGm1d+4/tFS/QOl4NCy",
      "include_colab_link": true
    },
    "kernelspec": {
      "name": "python3",
      "display_name": "Python 3"
    },
    "accelerator": "GPU"
  },
  "cells": [
    {
      "cell_type": "markdown",
      "metadata": {
        "id": "view-in-github",
        "colab_type": "text"
      },
      "source": [
        "<a href=\"https://colab.research.google.com/github/maloyan/HW_keras/blob/master/hw.ipynb\" target=\"_parent\"><img src=\"https://colab.research.google.com/assets/colab-badge.svg\" alt=\"Open In Colab\"/></a>"
      ]
    },
    {
      "cell_type": "code",
      "metadata": {
        "id": "F35xqSQS97LU",
        "colab_type": "code",
        "colab": {}
      },
      "source": [
        "#DON'T FORGET TO CHANGE Runtime->GPU\n",
        "\n",
        "from tensorflow.keras.preprocessing.image import ImageDataGenerator, load_img\n",
        "from tensorflow.keras.applications.resnet50 import ResNet50\n",
        "from tensorflow.keras.applications.densenet import DenseNet121\n",
        "from tensorflow.keras.metrics import RootMeanSquaredError, AUC\n",
        "from tensorflow.keras.models import Sequential, Model\n",
        "from tensorflow.keras.layers import Conv2D, MaxPooling2D, GlobalAveragePooling2D, BatchNormalization\n",
        "from tensorflow.keras.layers import Activation, Dropout, Flatten, Dense, Input, Lambda, concatenate\n",
        "from tensorflow.keras import backend as K\n",
        "from tensorflow.keras import optimizers\n",
        "import tensorflow_addons as tfa\n",
        "import tensorflow as tf\n",
        "from tensorflow.keras import backend as K\n",
        "\n",
        "import os\n",
        "import numpy as np\n",
        "import pandas as pd\n",
        "import cv2\n",
        "\n",
        "import matplotlib.pyplot as plt\n",
        "%matplotlib inline\n",
        "\n",
        "np.random.seed(42)\n",
        "tf.random.set_seed(42)"
      ],
      "execution_count": 0,
      "outputs": []
    },
    {
      "cell_type": "code",
      "metadata": {
        "id": "LNS-ekpj-EFr",
        "colab_type": "code",
        "outputId": "4e30e6fe-4f09-411c-d223-70f1bad39593",
        "colab": {
          "base_uri": "https://localhost:8080/",
          "height": 312
        }
      },
      "source": [
        "!nvidia-smi"
      ],
      "execution_count": 2,
      "outputs": [
        {
          "output_type": "stream",
          "text": [
            "Wed Jun 10 22:50:49 2020       \n",
            "+-----------------------------------------------------------------------------+\n",
            "| NVIDIA-SMI 440.82       Driver Version: 418.67       CUDA Version: 10.1     |\n",
            "|-------------------------------+----------------------+----------------------+\n",
            "| GPU  Name        Persistence-M| Bus-Id        Disp.A | Volatile Uncorr. ECC |\n",
            "| Fan  Temp  Perf  Pwr:Usage/Cap|         Memory-Usage | GPU-Util  Compute M. |\n",
            "|===============================+======================+======================|\n",
            "|   0  Tesla T4            Off  | 00000000:00:04.0 Off |                    0 |\n",
            "| N/A   58C    P8    10W /  70W |      0MiB / 15079MiB |      0%      Default |\n",
            "+-------------------------------+----------------------+----------------------+\n",
            "                                                                               \n",
            "+-----------------------------------------------------------------------------+\n",
            "| Processes:                                                       GPU Memory |\n",
            "|  GPU       PID   Type   Process name                             Usage      |\n",
            "|=============================================================================|\n",
            "|  No running processes found                                                 |\n",
            "+-----------------------------------------------------------------------------+\n"
          ],
          "name": "stdout"
        }
      ]
    },
    {
      "cell_type": "code",
      "metadata": {
        "id": "3icdfV2-7I86",
        "colab_type": "code",
        "colab": {}
      },
      "source": [
        "%%capture\n",
        "!wget https://data.mendeley.com/datasets/rscbjbr9sj/2/files/f12eaf6d-6023-432f-acc9-80c9d7393433/ChestXRay2017.zip;\n",
        "!unzip ChestXRay2017.zip;\n",
        "!cd ./chest_xray && mkdir val && cd val && mkdir NORMAL && mkdir PNEUMONIA;"
      ],
      "execution_count": 0,
      "outputs": []
    },
    {
      "cell_type": "code",
      "metadata": {
        "id": "cls_mPQZlte5",
        "colab_type": "code",
        "colab": {}
      },
      "source": [
        "TRAIN_SIZE = len(os.listdir('./chest_xray/train/NORMAL')) + len(os.listdir('./chest_xray/train/PNEUMONIA'))\n",
        "for i in os.listdir('./chest_xray/train/NORMAL')[:(TRAIN_SIZE // 10)]:\n",
        "    os.system(f'mv ./chest_xray/train/NORMAL/{i} ./chest_xray/val/NORMAL/{i}')\n",
        "\n",
        "for i in os.listdir('./chest_xray/train/PNEUMONIA')[:(TRAIN_SIZE // 10)]:\n",
        "    os.system(f'mv ./chest_xray/train/PNEUMONIA/{i} ./chest_xray/val/PNEUMONIA/{i}')"
      ],
      "execution_count": 0,
      "outputs": []
    },
    {
      "cell_type": "code",
      "metadata": {
        "id": "YLqWucsusMla",
        "colab_type": "code",
        "colab": {}
      },
      "source": [
        "IMG_WIDTH, IMG_HEIGHT = 224, 224\n",
        "\n",
        "TRAIN_DIR = './chest_xray/train/'\n",
        "TEST_DIR = './chest_xray/test/'\n",
        "VAL_DIR = './chest_xray/val/'\n",
        "\n",
        "#TRAIN_VAL_SPLIT = 0.8\n",
        "EPOCHS = 3\n",
        "BATCH = 64\n",
        "\n",
        "#TRAIN_SAMPLES = TRAIN_SIZE * TRAIN_VAL_SPLIT\n",
        "#VAL_SAMPLES = TRAIN_SIZE * (1 - TRAIN_VAL_SPLIT)\n",
        "\n",
        "#TRAIN_STEPS = TRAIN_SAMPLES // BATCH\n",
        "#VAL_STEPS = VAL_SAMPLES // BATCH\n",
        "\n",
        "TRAIN_SIZE = len(os.listdir('./chest_xray/train/NORMAL')) + len(os.listdir('./chest_xray/train/PNEUMONIA'))\n",
        "VAL_SIZE = len(os.listdir('./chest_xray/val/NORMAL')) + len(os.listdir('./chest_xray/val/PNEUMONIA'))\n",
        "\n",
        "TRAIN_STEPS = TRAIN_SIZE // BATCH\n",
        "VAL_STEPS = VAL_SIZE // BATCH\n",
        "\n",
        "\n",
        "if K.image_data_format() == 'channels_first':\n",
        "    INPUT_SHAPE = (1, IMG_WIDTH, IMG_HEIGHT)\n",
        "else:\n",
        "    INPUT_SHAPE = (IMG_WIDTH, IMG_HEIGHT, 1)\n",
        "\n",
        "#INPUT_SHAPE = (IMG_WIDTH, IMG_HEIGHT)"
      ],
      "execution_count": 0,
      "outputs": []
    },
    {
      "cell_type": "code",
      "metadata": {
        "id": "Yz1T_5ufnPi4",
        "colab_type": "code",
        "outputId": "60c37bc0-22e9-4f66-94c5-642d29c2b063",
        "colab": {
          "base_uri": "https://localhost:8080/",
          "height": 286
        }
      },
      "source": [
        "img_normal = load_img('./chest_xray/train/NORMAL/' + os.listdir('./chest_xray/train/NORMAL')[0])\n",
        "\n",
        "print('NORMAL')\n",
        "plt.imshow(img_normal)\n",
        "plt.show()"
      ],
      "execution_count": 12,
      "outputs": [
        {
          "output_type": "stream",
          "text": [
            "NORMAL\n"
          ],
          "name": "stdout"
        },
        {
          "output_type": "display_data",
          "data": {
            "image/png": "[encoded data removed]",
            "text/plain": [
              "<Figure size 432x288 with 1 Axes>"
            ]
          },
          "metadata": {
            "tags": [],
            "needs_background": "light"
          }
        }
      ]
    },
    {
      "cell_type": "code",
      "metadata": {
        "id": "zOgNYN1h8VRI",
        "colab_type": "code",
        "outputId": "f0f58374-a229-446d-d9c4-613934636542",
        "colab": {
          "base_uri": "https://localhost:8080/",
          "height": 273
        }
      },
      "source": [
        "img_pneumonia = load_img('./chest_xray/train/PNEUMONIA/' + os.listdir('./chest_xray/train/PNEUMONIA/')[0])\n",
        "\n",
        "print('PNEUMONIA')\n",
        "plt.imshow(img_pneumonia)\n",
        "plt.show()"
      ],
      "execution_count": 13,
      "outputs": [
        {
          "output_type": "stream",
          "text": [
            "PNEUMONIA\n"
          ],
          "name": "stdout"
        },
        {
          "output_type": "display_data",
          "data": {
            "image/png": "[encoded data removed]",
            "text/plain": [
              "<Figure size 432x288 with 1 Axes>"
            ]
          },
          "metadata": {
            "tags": [],
            "needs_background": "light"
          }
        }
      ]
    },
    {
      "cell_type": "code",
      "metadata": {
        "id": "W6J_oyI1ve8X",
        "colab_type": "code",
        "colab": {}
      },
      "source": [
        "def loadimgs(path):\n",
        "    X = []\n",
        "    y = []\n",
        "\n",
        "    for ind, i in enumerate(['NORMAL', 'PNEUMONIA']):\n",
        "        for file_path in os.listdir(path + '/' + i):\n",
        "            if file_path[-5:] == '.jpeg':\n",
        "                img = cv2.imread(path + '/' + i + '/' + file_path)\n",
        "                img = cv2.cvtColor(img, cv2.COLOR_BGR2GRAY)\n",
        "                img = cv2.resize(img, (IMG_WIDTH, IMG_HEIGHT), interpolation = cv2.INTER_AREA)\n",
        "                \n",
        "                X.append(img)\n",
        "                y.append(ind)\n",
        "\n",
        "    return np.stack(X), np.stack(y)"
      ],
      "execution_count": 0,
      "outputs": []
    },
    {
      "cell_type": "code",
      "metadata": {
        "id": "6HxRECQBxm-o",
        "colab_type": "code",
        "colab": {}
      },
      "source": [
        "X_train, y_train = loadimgs('./chest_xray/train')\n",
        "X_test, y_test = loadimgs('./chest_xray/test')\n",
        "X_val, y_val = loadimgs('./chest_xray/val')"
      ],
      "execution_count": 0,
      "outputs": []
    },
    {
      "cell_type": "code",
      "metadata": {
        "id": "atFD9WSZEGBr",
        "colab_type": "code",
        "colab": {}
      },
      "source": [
        "X_train = X_train.reshape((X_train.shape[0], 224, 224, 1))\n",
        "X_test = X_test.reshape((X_test.shape[0], 224, 224, 1))\n",
        "X_val = X_val.reshape((X_val.shape[0], 224, 224, 1))"
      ],
      "execution_count": 0,
      "outputs": []
    },
    {
      "cell_type": "code",
      "metadata": {
        "id": "s8ABg64MFZcS",
        "colab_type": "code",
        "colab": {}
      },
      "source": [
        "X_train = X_train.astype('float32')\n",
        "X_test = X_test.astype('float32')\n",
        "X_val = X_val.astype('float32')\n",
        "\n",
        "X_train /= 255\n",
        "X_test /= 255\n",
        "X_val /= 255"
      ],
      "execution_count": 0,
      "outputs": []
    },
    {
      "cell_type": "code",
      "metadata": {
        "id": "Dn17qszKbMpG",
        "colab_type": "code",
        "colab": {}
      },
      "source": [
        "def generate_triplets(dataset, label, sample_per_class=10):\n",
        "  x, y = None, None\n",
        "  for i in range(2):\n",
        "    pos_indices = np.argwhere(label == i)[:,0]\n",
        "    neg_indices = np.argwhere(label != i)[:,0]\n",
        "\n",
        "    # print(\"pos indices: {}, neg_indices: {}\".format(pos_indices.shape, neg_indices.shape))\n",
        "    choice_anchor = np.random.choice(pos_indices.shape[0], sample_per_class, replace=False)\n",
        "    choice_anchor = pos_indices[choice_anchor]\n",
        "\n",
        "    choice_pos = np.random.choice(pos_indices.shape[0], sample_per_class, replace=False)\n",
        "    choice_pos = pos_indices[choice_pos]\n",
        "\n",
        "    choice_neg = np.random.choice(neg_indices.shape[0], sample_per_class, replace=False)\n",
        "    choice_neg = neg_indices[choice_neg]\n",
        "\n",
        "    sub_x_anc = dataset[choice_anchor]\n",
        "    \n",
        "    sub_x_pos = dataset[choice_pos]\n",
        "\n",
        "    sub_x_neg = dataset[choice_neg]\n",
        "      \n",
        "        \n",
        "    if(x is None):\n",
        "      x = [(sub_x_anc), (sub_x_pos), (sub_x_neg)]\n",
        "      y = [label[choice_anchor], label[choice_pos], label[choice_neg]]\n",
        "    else:\n",
        "      x[0] = np.vstack((x[0], (sub_x_anc)))\n",
        "      x[1] = np.vstack((x[1], (sub_x_pos)))\n",
        "      x[2] = np.vstack((x[2], (sub_x_neg)))\n",
        "\n",
        "      y[0] = np.hstack((y[0].flatten(), label[choice_anchor].flatten()))\n",
        "      y[1] = np.hstack((y[1].flatten(), label[choice_pos].flatten()))\n",
        "      y[2] = np.hstack((y[2].flatten(), label[choice_neg].flatten()))\n",
        "    \n",
        "  return x, y"
      ],
      "execution_count": 0,
      "outputs": []
    },
    {
      "cell_type": "code",
      "metadata": {
        "id": "-eRLqlV4bqRS",
        "colab_type": "code",
        "colab": {}
      },
      "source": [
        "train_x, train_y = generate_triplets(X_train, y_train, 500)\n",
        "val_x, val_y = generate_triplets(X_val, y_val, 100)\n",
        "test_x, test_y = generate_triplets(X_test, y_test, 100)"
      ],
      "execution_count": 0,
      "outputs": []
    },
    {
      "cell_type": "code",
      "metadata": {
        "id": "OObUbOayej3c",
        "colab_type": "code",
        "colab": {}
      },
      "source": [
        "def triplet_loss(inputs, dist='sqeuclidean', margin='maxplus'):\n",
        "    anchor, positive, negative = inputs\n",
        "    positive_distance = K.square(anchor - positive)\n",
        "    negative_distance = K.square(anchor - negative)\n",
        "    if dist == 'euclidean':\n",
        "        positive_distance = K.sqrt(K.sum(positive_distance, axis=-1, keepdims=True))\n",
        "        negative_distance = K.sqrt(K.sum(negative_distance, axis=-1, keepdims=True))\n",
        "    elif dist == 'sqeuclidean':\n",
        "        positive_distance = K.sum(positive_distance, axis=-1, keepdims=True)\n",
        "        negative_distance = K.sum(negative_distance, axis=-1, keepdims=True)\n",
        "    loss = positive_distance - negative_distance\n",
        "    if margin == 'maxplus':\n",
        "        loss = K.maximum(0.0, 1 + loss)\n",
        "    elif margin == 'softplus':\n",
        "        loss = K.log(1 + K.exp(loss))\n",
        "    return K.mean(loss)\n"
      ],
      "execution_count": 0,
      "outputs": []
    },
    {
      "cell_type": "code",
      "metadata": {
        "id": "dTzSPCK_ORZg",
        "colab_type": "code",
        "colab": {}
      },
      "source": [
        "# Строим модель\n",
        "# Она состоит из трех блоков вида: Свертка->Активация->MaxPooling\n",
        "\n",
        "# После мы получаем признаки, которые запишем в одномерный массив с помощью Flatten\n",
        "# Полносвязный слой выход 64->\n",
        "# Активация Relu->\n",
        "# 50% Дропаут ->\n",
        "# Полносвязный слой с одним выходом->\n",
        "# Нормализация с помощью Sigmoid\n",
        "\n",
        "def base_model(input_shape):\n",
        "    model = Sequential()\n",
        "    model.add(Conv2D(32, (3, 3), input_shape=input_shape))\n",
        "    model.add(Activation('relu'))\n",
        "    model.add(MaxPooling2D(pool_size=(2, 2)))\n",
        "\n",
        "    model.add(Conv2D(32, (3, 3)))\n",
        "    model.add(Activation('relu'))\n",
        "    model.add(MaxPooling2D(pool_size=(2, 2)))\n",
        "\n",
        "    model.add(Conv2D(64, (3, 3)))\n",
        "    model.add(Activation('relu'))\n",
        "    model.add(MaxPooling2D(pool_size=(2, 2)))\n",
        "\n",
        "    model.add(Conv2D(128, (3, 3)))\n",
        "    model.add(Activation('relu'))\n",
        "    model.add(MaxPooling2D(pool_size=(2, 2)))\n",
        "\n",
        "    model.add(Flatten())\n",
        "    model.add(Dense(128))\n",
        "\n",
        "    return model\n",
        "\n",
        "def classic_model(input_shape):\n",
        "    \n",
        "    model = base_model(input_shape)\n",
        "\n",
        "    model.add(Activation('relu'))\n",
        "    model.add(Dropout(0.5))\n",
        "    model.add(Dense(1))\n",
        "    model.add(Activation('sigmoid'))\n",
        "\n",
        "    return model\n",
        "\n",
        "def siamese_model(input_shape):\n",
        "    left_input = Input(input_shape)\n",
        "    right_input = Input(input_shape)\n",
        "    \n",
        "    model = base_model(input_shape)\n",
        "\n",
        "    model.add(Activation('sigmoid'))\n",
        "\n",
        "    encoded_l = model(left_input)\n",
        "    encoded_r = model(right_input)\n",
        "    \n",
        "    L1_layer = Lambda(lambda tensors:K.abs(tensors[0] - tensors[1]))\n",
        "    L1_distance = L1_layer([encoded_l, encoded_r])\n",
        "    \n",
        "    prediction = Dense(1,activation='sigmoid')(L1_distance)\n",
        "\n",
        "    siamese_net = Model(inputs=[left_input,right_input],outputs=prediction)\n",
        "    \n",
        "    return siamese_net\n",
        "\n",
        "def siamese_triplet_model(input_shape, triplet_margin=.3):\n",
        "\n",
        "    anchor_input = Input(input_shape, name=\"anchor_input\")\n",
        "    positive_input = Input(input_shape, name=\"positive_input\")\n",
        "    negative_input = Input(input_shape, name=\"negative_input\")\n",
        "    \n",
        "    embedding_model = base_model(input_shape)\n",
        "    \n",
        "    # Generate the embedding outputs \n",
        "    encoded_anchor = embedding_model(anchor_input)\n",
        "    encoded_positive = embedding_model(positive_input)\n",
        "    encoded_negative = embedding_model(negative_input)\n",
        "    \n",
        "    inputs = [anchor_input, positive_input, negative_input]\n",
        "    outputs = [encoded_anchor, encoded_positive, encoded_negative]\n",
        "    \n",
        "    # Connect the inputs with the outputs\n",
        "    siamese_triplet = Model(inputs=inputs,outputs=outputs)\n",
        "    \n",
        "    siamese_triplet.add_loss((triplet_loss(outputs, dist='euclidean', margin='maxplus')))\n",
        "    \n",
        "    # return the model\n",
        "    return embedding_model, siamese_triplet"
      ],
      "execution_count": 0,
      "outputs": []
    },
    {
      "cell_type": "code",
      "metadata": {
        "id": "-mKFiGp9iV_e",
        "colab_type": "code",
        "colab": {}
      },
      "source": [
        "#CLASSIC"
      ],
      "execution_count": 0,
      "outputs": []
    },
    {
      "cell_type": "code",
      "metadata": {
        "id": "aE4KQua9xkKA",
        "colab_type": "code",
        "colab": {}
      },
      "source": [
        "model = classic_model(INPUT_SHAPE)\n",
        "    \n",
        "model.compile(\n",
        "    loss=tf.keras.losses.BinaryCrossentropy(),\n",
        "    optimizer=optimizers.Adam(),\n",
        "    metrics=['accuracy', AUC()]\n",
        ")"
      ],
      "execution_count": 0,
      "outputs": []
    },
    {
      "cell_type": "code",
      "metadata": {
        "id": "tOl0n_E40z_y",
        "colab_type": "code",
        "outputId": "15880725-cf97-4b93-d171-d7afd009d7cc",
        "colab": {
          "base_uri": "https://localhost:8080/",
          "height": 148
        }
      },
      "source": [
        "model.fit(\n",
        "    x = X_train,\n",
        "    y = y_train,\n",
        "    batch_size=BATCH,\n",
        "    epochs=EPOCHS,\n",
        "    validation_data=(X_val, y_val)\n",
        ")\n",
        "\n",
        "model.evaluate(X_test, y_test)"
      ],
      "execution_count": 0,
      "outputs": [
        {
          "output_type": "stream",
          "text": [
            "Epoch 1/3\n",
            "66/66 [==============================] - 11s 169ms/step - loss: 0.3852 - accuracy: 0.8392 - auc: 0.7943 - val_loss: 0.7255 - val_accuracy: 0.6558 - val_auc: 0.9266\n",
            "Epoch 2/3\n",
            "66/66 [==============================] - 10s 155ms/step - loss: 0.1676 - accuracy: 0.9391 - auc: 0.9700 - val_loss: 0.1665 - val_accuracy: 0.9407 - val_auc: 0.9881\n",
            "Epoch 3/3\n",
            "66/66 [==============================] - 10s 157ms/step - loss: 0.1324 - accuracy: 0.9494 - auc: 0.9808 - val_loss: 0.1837 - val_accuracy: 0.9369 - val_auc: 0.9877\n",
            "20/20 [==============================] - 1s 38ms/step - loss: 0.8736 - accuracy: 0.7452 - auc: 0.9028\n"
          ],
          "name": "stdout"
        },
        {
          "output_type": "execute_result",
          "data": {
            "text/plain": [
              "[0.8735516667366028, 0.745192289352417, 0.9028052091598511]"
            ]
          },
          "metadata": {
            "tags": []
          },
          "execution_count": 22
        }
      ]
    },
    {
      "cell_type": "code",
      "metadata": {
        "id": "9fwXETDPiUSE",
        "colab_type": "code",
        "colab": {}
      },
      "source": [
        "#contrastive_loss"
      ],
      "execution_count": 0,
      "outputs": []
    },
    {
      "cell_type": "code",
      "metadata": {
        "id": "KmGulzfhJIo2",
        "colab_type": "code",
        "colab": {}
      },
      "source": [
        "import random\n",
        "\n",
        "num_classes = 2\n",
        "\n",
        "def create_pairs(x, digit_indices):\n",
        "    '''Positive and negative pair creation.\n",
        "    Alternates between positive and negative pairs.\n",
        "    '''\n",
        "    pairs = []\n",
        "    labels = []\n",
        "    n = min([len(digit_indices[d]) for d in range(num_classes)]) - 1\n",
        "    for d in range(num_classes):\n",
        "        for i in range(n):\n",
        "            z1, z2 = digit_indices[d][i], digit_indices[d][i + 1]\n",
        "            pairs += [[x[z1], x[z2]]]\n",
        "            inc = random.randrange(1, num_classes)\n",
        "            dn = (d + inc) % num_classes\n",
        "            z1, z2 = digit_indices[d][i], digit_indices[dn][i]\n",
        "            pairs += [[x[z1], x[z2]]]\n",
        "            labels += [1, 0]\n",
        "    return np.array(pairs), np.array(labels)\n",
        "\n",
        "# create training+test positive and negative pairs\n",
        "digit_indices = [np.where(y_train == i)[0] for i in range(num_classes)]\n",
        "tr_pairs, tr_y = create_pairs(X_train, digit_indices)\n",
        "\n",
        "digit_indices = [np.where(y_test == i)[0] for i in range(num_classes)]\n",
        "te_pairs, te_y = create_pairs(X_test, digit_indices)\n"
      ],
      "execution_count": 0,
      "outputs": []
    },
    {
      "cell_type": "code",
      "metadata": {
        "id": "VAVe1FpILUVe",
        "colab_type": "code",
        "colab": {}
      },
      "source": [
        "def contrastive_loss(y_true, y_pred):\n",
        "    '''Contrastive loss from Hadsell-et-al.'06\n",
        "    http://yann.lecun.com/exdb/publis/pdf/hadsell-chopra-lecun-06.pdf\n",
        "    '''\n",
        "    margin = 1\n",
        "    square_pred = K.square(y_pred)\n",
        "    margin_square = K.square(K.maximum(margin - y_pred, 0))\n",
        "    return K.mean(y_true * square_pred + (1 - y_true) * margin_square)\n",
        "\n",
        "def accuracy(y_true, y_pred):\n",
        "    '''Compute classification accuracy with a fixed threshold on distances.\n",
        "    '''\n",
        "    return K.mean(K.equal(y_true, K.cast(y_pred < 0.5, y_true.dtype)))"
      ],
      "execution_count": 0,
      "outputs": []
    },
    {
      "cell_type": "code",
      "metadata": {
        "id": "_eFGFeXuJmHd",
        "colab_type": "code",
        "outputId": "0d0765dc-2868-4fdf-cc00-61192e53892a",
        "colab": {
          "base_uri": "https://localhost:8080/",
          "height": 138
        }
      },
      "source": [
        "model = siamese_model(INPUT_SHAPE)\n",
        "model.compile(loss=contrastive_loss, optimizer=optimizers.Adam(), metrics=[accuracy])\n",
        "model.fit([tr_pairs[:, 0], tr_pairs[:, 1]], tr_y,\n",
        "          batch_size=BATCH,\n",
        "          epochs=EPOCHS,\n",
        "          validation_data=([te_pairs[:, 0], te_pairs[:, 1]], te_y))"
      ],
      "execution_count": 0,
      "outputs": [
        {
          "output_type": "stream",
          "text": [
            "Epoch 1/3\n",
            "52/52 [==============================] - 8s 163ms/step - loss: 0.1962 - accuracy: 0.7052 - val_loss: 0.2107 - val_accuracy: 0.6824\n",
            "Epoch 2/3\n",
            "52/52 [==============================] - 8s 162ms/step - loss: 0.1670 - accuracy: 0.8750 - val_loss: 0.2447 - val_accuracy: 0.5926\n",
            "Epoch 3/3\n",
            "52/52 [==============================] - 8s 160ms/step - loss: 0.1387 - accuracy: 0.9216 - val_loss: 0.2485 - val_accuracy: 0.5931\n"
          ],
          "name": "stdout"
        },
        {
          "output_type": "execute_result",
          "data": {
            "text/plain": [
              "<tensorflow.python.keras.callbacks.History at 0x7f77d154f7b8>"
            ]
          },
          "metadata": {
            "tags": []
          },
          "execution_count": 20
        }
      ]
    },
    {
      "cell_type": "code",
      "metadata": {
        "id": "cnZjYSi6MZww",
        "colab_type": "code",
        "outputId": "ed3ff8e2-2008-41e8-95f0-ee71fa4e56bd",
        "colab": {
          "base_uri": "https://localhost:8080/",
          "height": 52
        }
      },
      "source": [
        "model.evaluate(([te_pairs[:, 0], te_pairs[:, 1]]), te_y)"
      ],
      "execution_count": 0,
      "outputs": [
        {
          "output_type": "stream",
          "text": [
            "30/30 [==============================] - 1s 29ms/step - loss: 0.2485 - accuracy: 0.6052\n"
          ],
          "name": "stdout"
        },
        {
          "output_type": "execute_result",
          "data": {
            "text/plain": [
              "[0.24848124384880066, 0.6052083373069763]"
            ]
          },
          "metadata": {
            "tags": []
          },
          "execution_count": 21
        }
      ]
    },
    {
      "cell_type": "code",
      "metadata": {
        "id": "bOYKvMCrd7cr",
        "colab_type": "code",
        "colab": {}
      },
      "source": [
        "#Triplet v2"
      ],
      "execution_count": 0,
      "outputs": []
    },
    {
      "cell_type": "code",
      "metadata": {
        "id": "yAEYMTE9d682",
        "colab_type": "code",
        "colab": {}
      },
      "source": [
        "embedding_model, siamese_triplet = siamese_triplet_model(INPUT_SHAPE, triplet_margin=.3)\n",
        "siamese_triplet.compile(\n",
        "    loss=None, #tfa.losses.TripletSemiHardLoss(), \n",
        "    optimizer=optimizers.Adam())"
      ],
      "execution_count": 0,
      "outputs": []
    },
    {
      "cell_type": "code",
      "metadata": {
        "id": "19JoBjVeeIjb",
        "colab_type": "code",
        "colab": {
          "base_uri": "https://localhost:8080/",
          "height": 138
        },
        "outputId": "887038a5-afd6-438c-a32c-b8d6216ffc73"
      },
      "source": [
        "siamese_triplet.fit(\n",
        "    x=train_x, \n",
        "    shuffle=True, \n",
        "    batch_size=BATCH, \n",
        "    epochs=EPOCHS,\n",
        "    validation_data=(val_x, val_y)\n",
        ")"
      ],
      "execution_count": 80,
      "outputs": [
        {
          "output_type": "stream",
          "text": [
            "Epoch 1/3\n",
            "16/16 [==============================] - 3s 215ms/step - loss: 0.1062 - val_loss: 0.0779\n",
            "Epoch 2/3\n",
            "16/16 [==============================] - 3s 216ms/step - loss: 0.0796 - val_loss: 0.0863\n",
            "Epoch 3/3\n",
            "16/16 [==============================] - 3s 215ms/step - loss: 0.0396 - val_loss: 0.1123\n"
          ],
          "name": "stdout"
        },
        {
          "output_type": "execute_result",
          "data": {
            "text/plain": [
              "<tensorflow.python.keras.callbacks.History at 0x7fbf34e08d68>"
            ]
          },
          "metadata": {
            "tags": []
          },
          "execution_count": 80
        }
      ]
    },
    {
      "cell_type": "code",
      "metadata": {
        "id": "kQLtsVfxeY15",
        "colab_type": "code",
        "colab": {}
      },
      "source": [
        "train_embeds = embedding_model.predict(np.vstack((train_x[0], train_x[1], train_x[2])))"
      ],
      "execution_count": 0,
      "outputs": []
    },
    {
      "cell_type": "code",
      "metadata": {
        "id": "VMZT4nyPh7DU",
        "colab_type": "code",
        "colab": {}
      },
      "source": [
        "target = np.hstack((train_y[0], train_y[1], train_y[2]))"
      ],
      "execution_count": 0,
      "outputs": []
    },
    {
      "cell_type": "code",
      "metadata": {
        "id": "2RnUxrT0iBUD",
        "colab_type": "code",
        "colab": {}
      },
      "source": [
        "from sklearn.neighbors import KNeighborsClassifier\n",
        "def fit_nearest_neighbor(img_encoding, img_class, algorithm='ball_tree'):\n",
        "  classifier = KNeighborsClassifier(n_neighbors=3, algorithm=algorithm)\n",
        "  classifier.fit(img_encoding, img_class)\n",
        "  return classifier"
      ],
      "execution_count": 0,
      "outputs": []
    },
    {
      "cell_type": "code",
      "metadata": {
        "id": "kUa6Xeq9iD6t",
        "colab_type": "code",
        "colab": {}
      },
      "source": [
        "classifier = fit_nearest_neighbor(train_embeds, target)\n"
      ],
      "execution_count": 0,
      "outputs": []
    },
    {
      "cell_type": "code",
      "metadata": {
        "id": "6HVTy34_iHzF",
        "colab_type": "code",
        "colab": {}
      },
      "source": [
        "e = embedding_model.predict(X_test)\n",
        "op = classifier.predict(e)"
      ],
      "execution_count": 0,
      "outputs": []
    },
    {
      "cell_type": "code",
      "metadata": {
        "id": "5kyKm2DjiKcq",
        "colab_type": "code",
        "colab": {
          "base_uri": "https://localhost:8080/",
          "height": 34
        },
        "outputId": "4ca4ec2e-98bc-4116-d466-08385eb8e04a"
      },
      "source": [
        "(np.where(y_test == op))[0].shape[0] / y_test.shape[0]"
      ],
      "execution_count": 88,
      "outputs": [
        {
          "output_type": "execute_result",
          "data": {
            "text/plain": [
              "0.7884615384615384"
            ]
          },
          "metadata": {
            "tags": []
          },
          "execution_count": 88
        }
      ]
    }
  ]
}